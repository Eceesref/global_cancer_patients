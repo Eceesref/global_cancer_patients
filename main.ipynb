{
 "cells": [
  {
   "cell_type": "code",
   "execution_count": null,
   "id": "658ee246",
   "metadata": {
    "lines_to_next_cell": 2
   },
   "outputs": [],
   "source": [
    "import numpy as np\n",
    "import pandas as pd\n",
    "import matplotlib\n",
    "matplotlib.use('TkAgg')\n",
    "import matplotlib.pyplot as plt\n",
    "import warnings\n",
    "warnings.filterwarnings('ignore')"
   ]
  },
  {
   "cell_type": "code",
   "execution_count": null,
   "id": "77b9a1f8",
   "metadata": {},
   "outputs": [],
   "source": [
    "df = pd.read_csv(\"C:/Users/Lenovo/Downloads/global_cancer_patients_2015_2024.csv\")"
   ]
  },
  {
   "cell_type": "code",
   "execution_count": null,
   "id": "20c4ac23",
   "metadata": {
    "lines_to_next_cell": 2
   },
   "outputs": [],
   "source": [
    "# -- Datasetimin neye benzediği ile ilgili fikir sahibi olmak için df.head veya df.sample komutunu çalıştırıyorum\n",
    "df.head(5)"
   ]
  },
  {
   "cell_type": "code",
   "execution_count": null,
   "id": "c09fc54e",
   "metadata": {
    "lines_to_next_cell": 2
   },
   "outputs": [],
   "source": [
    "# -- Datasetimin sütunlarının null/not null değerlerini ve veri tipini görmek için df.info kullanıyorum\n",
    "df.info()"
   ]
  },
  {
   "cell_type": "code",
   "execution_count": null,
   "id": "1c471ea5",
   "metadata": {},
   "outputs": [],
   "source": [
    "# -- Unique olan hasta numarasına ihtiyacım olmayacağından doğrudan dropluyorum\n",
    "df.drop(columns=['Patient_ID'], inplace = True)"
   ]
  },
  {
   "cell_type": "code",
   "execution_count": null,
   "id": "ab1a87a7",
   "metadata": {},
   "outputs": [],
   "source": []
  },
  {
   "cell_type": "code",
   "execution_count": null,
   "id": "bda70e0d",
   "metadata": {},
   "outputs": [],
   "source": [
    "# -- Sütunlarımı kategorik ve nümerik olarak sınıflandırıyorum, böylece model eğitimi yaparken işimi kolaylaştıracak\n",
    "numerical_columns = df.select_dtypes(include=[np.number]).columns.tolist()\n",
    "categorical_columns = df.select_dtypes(exclude=[np.number]).columns.tolist()"
   ]
  },
  {
   "cell_type": "code",
   "execution_count": null,
   "id": "2406feb1",
   "metadata": {},
   "outputs": [],
   "source": []
  },
  {
   "cell_type": "markdown",
   "id": "de01640a",
   "metadata": {},
   "source": [
    "-- Cancer_stage sütunumu modele sokmak için kolay bir hale getiriyorum"
   ]
  },
  {
   "cell_type": "code",
   "execution_count": null,
   "id": "449057a7",
   "metadata": {},
   "outputs": [],
   "source": [
    "stage_mapping = {\n",
    "    'Stage 0': 0,\n",
    "    'Stage I': 1,\n",
    "    'Stage II': 2,\n",
    "    'Stage III': 3,\n",
    "    'Stage IV': 4\n",
    "}"
   ]
  },
  {
   "cell_type": "code",
   "execution_count": null,
   "id": "a09b0cf3",
   "metadata": {},
   "outputs": [],
   "source": [
    "df['Cancer_Stage'] = df['Cancer_Stage'].str.strip().str.upper().replace({\n",
    "    'STAGE 0': 0,\n",
    "    'STAGE I': 1,\n",
    "    'STAGE II': 2,\n",
    "    'STAGE III': 3,\n",
    "    'STAGE IV': 4\n",
    "})"
   ]
  },
  {
   "cell_type": "code",
   "execution_count": null,
   "id": "844ba5bb",
   "metadata": {
    "lines_to_next_cell": 2
   },
   "outputs": [],
   "source": []
  },
  {
   "cell_type": "code",
   "execution_count": null,
   "id": "c0577b50",
   "metadata": {},
   "outputs": [],
   "source": [
    "# -- Hasta sayısı ve yaş arasındaki korelasyonu görebilmek için görselleştirme kullanıyorum\n",
    "plt.figure(figsize=(10,6))\n",
    "df['Age'].hist(bins=20, edgecolor='black')\n",
    "plt.xlabel('Age')\n",
    "plt.ylabel('Number of Patients')\n",
    "plt.title('Distribution of Patients by Age')\n",
    "plt.grid(True)\n",
    "plt.savefig(\"C:/Users/Lenovo/Downloads/age_distribution.png\")\n",
    "plt.close()\n",
    "# -- Verimin yaşlar arasında fark oluşturmayacak şekilde dağılım gösterdiğini gözlemliyorum"
   ]
  },
  {
   "cell_type": "code",
   "execution_count": null,
   "id": "51dcc3c8",
   "metadata": {
    "lines_to_next_cell": 2
   },
   "outputs": [],
   "source": []
  },
  {
   "cell_type": "code",
   "execution_count": null,
   "id": "66c17ac3",
   "metadata": {},
   "outputs": [],
   "source": [
    "# -- Bir box-plot yardımı q1,q2(median),q3 gibi değerleri görerek ülkeler ve target severity score arasındaki korelasyonu görmek istiyorum\n",
    "plt.figure(figsize=(14,6))\n",
    "df.boxplot(column='Target_Severity_Score', by='Country_Region', rot=90)\n",
    "plt.title('Target Severity Score Distribution by Country')\n",
    "plt.suptitle('')\n",
    "plt.xlabel('Country')\n",
    "plt.ylabel('Target Severity Score')\n",
    "plt.tight_layout()\n",
    "plt.savefig(\"C:/Users/Lenovo/Downloads/severity_by_country.png\")\n",
    "plt.close()\n",
    "# -- Verimin ülkeler arasında fark oluşturmayacak şekilde dağılım gösterdiğini gözlemliyorum"
   ]
  },
  {
   "cell_type": "code",
   "execution_count": null,
   "id": "6913af7e",
   "metadata": {
    "lines_to_next_cell": 2
   },
   "outputs": [],
   "source": []
  },
  {
   "cell_type": "code",
   "execution_count": null,
   "id": "92b45286",
   "metadata": {},
   "outputs": [],
   "source": [
    "# -- Hasta sayısı ve severity score korelasyonuna göz atalım\n",
    "severity_counts = df['Target_Severity_Score'].value_counts().sort_index()\n",
    "plt.figure(figsize=(10,6))\n",
    "plt.plot(severity_counts.index, severity_counts.values, marker='o', linestyle='-')\n",
    "plt.xlabel('Target Severity Score')\n",
    "plt.ylabel('Number of Patients')\n",
    "plt.title('Number of Patients by Severity Score')\n",
    "plt.grid(True)\n",
    "plt.savefig(\"C:/Users/Lenovo/Downloads/patients_by_severity.png\")\n",
    "plt.close()\n",
    "# -- Hastalarımın büyük çoğunluğunun target severity score'u 4-6 arasında olduğunu gözlemliyorum."
   ]
  },
  {
   "cell_type": "code",
   "execution_count": null,
   "id": "d31718c5",
   "metadata": {
    "lines_to_next_cell": 2
   },
   "outputs": [],
   "source": []
  },
  {
   "cell_type": "code",
   "execution_count": null,
   "id": "db52bd73",
   "metadata": {},
   "outputs": [],
   "source": [
    "# -- Target severity score ve hasta sayısına ait bir gözlem yaptıktan sonra yaş için de bir korelasyon var mı bakalım\n",
    "correlation = df['Age'].corr(df['Target_Severity_Score'])\n",
    "print(f'Pearson correlation between Age and Severity Score: {correlation:.3f}')\n",
    "# -- Neredeyse hiçbir ilişki olmadığını görüyorum"
   ]
  },
  {
   "cell_type": "code",
   "execution_count": null,
   "id": "6a08d50e",
   "metadata": {
    "lines_to_next_cell": 2
   },
   "outputs": [],
   "source": []
  },
  {
   "cell_type": "markdown",
   "id": "19b2fe35",
   "metadata": {},
   "source": [
    "-- Çok nadir olan kategorik değişkenlerimi overfitting'e ve curse of dimensionality'e sebep vermemek için elimine ediyorum"
   ]
  },
  {
   "cell_type": "code",
   "execution_count": null,
   "id": "0e6c01f9",
   "metadata": {},
   "outputs": [],
   "source": [
    "def group_rare_categories(df, column, threshold=0.01):\n",
    "    value_counts = df[column].value_counts(normalize=True)\n",
    "    rare_categories = value_counts[value_counts < threshold].index\n",
    "    df[column] = df[column].apply(lambda x: 'Other' if x in rare_categories else x)\n",
    "    return df\n",
    "df = group_rare_categories(df, 'Country_Region', threshold=0.01)\n",
    "df = group_rare_categories(df, 'Cancer_Type', threshold=0.01)"
   ]
  },
  {
   "cell_type": "code",
   "execution_count": null,
   "id": "965ac8fc",
   "metadata": {
    "lines_to_next_cell": 2
   },
   "outputs": [],
   "source": []
  },
  {
   "cell_type": "code",
   "execution_count": null,
   "id": "4d90bcdc",
   "metadata": {},
   "outputs": [],
   "source": [
    "# -- Model eğitimi için One-hot encoded sütunlar oluşturuyorum.\n",
    "df = pd.get_dummies(df, columns=['Gender', 'Country_Region', 'Cancer_Type'], drop_first=True)"
   ]
  },
  {
   "cell_type": "code",
   "execution_count": null,
   "id": "968c7212",
   "metadata": {
    "lines_to_next_cell": 2
   },
   "outputs": [],
   "source": []
  },
  {
   "cell_type": "code",
   "execution_count": null,
   "id": "3d821284",
   "metadata": {},
   "outputs": [],
   "source": [
    "from sklearn.preprocessing import StandardScaler"
   ]
  },
  {
   "cell_type": "code",
   "execution_count": null,
   "id": "c731db23",
   "metadata": {},
   "outputs": [],
   "source": [
    "# -- Veri setimizi feature columns ve label olarak ikiye ayırabiliriz\n",
    "x = df.drop(columns=['Target_Severity_Score'])\n",
    "y = df['Target_Severity_Score']"
   ]
  },
  {
   "cell_type": "code",
   "execution_count": null,
   "id": "bfb3b487",
   "metadata": {},
   "outputs": [],
   "source": []
  },
  {
   "cell_type": "code",
   "execution_count": null,
   "id": "02e5c6b8",
   "metadata": {},
   "outputs": [],
   "source": [
    "# -- Boolean sütunları int'e çevirelim\n",
    "bool_cols = x.select_dtypes(include='bool').columns\n",
    "x[bool_cols] = x[bool_cols].astype(int)"
   ]
  },
  {
   "cell_type": "code",
   "execution_count": null,
   "id": "e221d60f",
   "metadata": {},
   "outputs": [],
   "source": []
  },
  {
   "cell_type": "code",
   "execution_count": null,
   "id": "31014fd8",
   "metadata": {},
   "outputs": [],
   "source": [
    "# -- Sayısal verilerimi modele sokmadan önce ölçekliyorum\n",
    "from sklearn.preprocessing import StandardScaler"
   ]
  },
  {
   "cell_type": "code",
   "execution_count": null,
   "id": "242ed19c",
   "metadata": {},
   "outputs": [],
   "source": [
    "numeric_cols = x.select_dtypes(include='number').columns\n",
    "scaler = StandardScaler()\n",
    "x[numeric_cols] = scaler.fit_transform(x[numeric_cols])"
   ]
  },
  {
   "cell_type": "code",
   "execution_count": null,
   "id": "ce647531",
   "metadata": {
    "lines_to_next_cell": 2
   },
   "outputs": [],
   "source": []
  },
  {
   "cell_type": "code",
   "execution_count": null,
   "id": "fa00ebef",
   "metadata": {},
   "outputs": [],
   "source": [
    "# -- Veriyi eğitim ve test olmak üzere ikiye ayıralım, burada random_state yani rastgele veri kümesi için gelenek olduğu için 42 seçiyorum\n",
    "# -ancak başka bir değer de seçilebilirdi, verimi ise 80/20 olarak ikiye ayırıyorum\n",
    "from sklearn.model_selection import train_test_split"
   ]
  },
  {
   "cell_type": "code",
   "execution_count": null,
   "id": "6928dfc1",
   "metadata": {},
   "outputs": [],
   "source": [
    "x_train, x_test, y_train, y_test = train_test_split(x, y, test_size=0.2, random_state=42)"
   ]
  },
  {
   "cell_type": "code",
   "execution_count": null,
   "id": "b9d1c1e2",
   "metadata": {},
   "outputs": [],
   "source": []
  },
  {
   "cell_type": "code",
   "execution_count": null,
   "id": "bf8406b6",
   "metadata": {},
   "outputs": [],
   "source": [
    "# -- Verimi bir decision tree based olan random forest regressor classification modeline sokuyorum\n",
    "from sklearn.ensemble import RandomForestRegressor"
   ]
  },
  {
   "cell_type": "code",
   "execution_count": null,
   "id": "2750db75",
   "metadata": {
    "lines_to_next_cell": 2
   },
   "outputs": [],
   "source": [
    "model = RandomForestRegressor(random_state=42)\n",
    "model.fit(x_train, y_train)"
   ]
  },
  {
   "cell_type": "code",
   "execution_count": null,
   "id": "7cfcefcc",
   "metadata": {},
   "outputs": [],
   "source": [
    "# -- Değerlerimin Mean Squared Error ve Root Mean Squared Error, R Square gibi değerlerini hesaplıyorum, bu sayede\n",
    "# - ne kadar doğru tahmin yapabildiğimi göreceğim.\n",
    "from sklearn.metrics import mean_squared_error, r2_score"
   ]
  },
  {
   "cell_type": "code",
   "execution_count": null,
   "id": "fc6330aa",
   "metadata": {},
   "outputs": [],
   "source": [
    "y_pred = model.predict(x_test)\n",
    "mse = mean_squared_error(y_test, y_pred)\n",
    "r2 = r2_score(y_test, y_pred)\n",
    "rmse = np.sqrt(mse)"
   ]
  },
  {
   "cell_type": "code",
   "execution_count": null,
   "id": "fc0246a6",
   "metadata": {},
   "outputs": [],
   "source": [
    "print(f\"Mean Squared Error: {mse:.2f}\")\n",
    "print(f\"Root Mean Squared Error: {rmse:.2f}\")\n",
    "print(f\"R² Score: {r2:.2f}\")"
   ]
  },
  {
   "cell_type": "code",
   "execution_count": null,
   "id": "c03241f3",
   "metadata": {},
   "outputs": [],
   "source": []
  },
  {
   "cell_type": "code",
   "execution_count": null,
   "id": "af72f8c8",
   "metadata": {},
   "outputs": [],
   "source": [
    "# -- Cross validation aşamasına geçelim ve modelimizin istikrarını görelim.\n",
    "from sklearn.model_selection import cross_val_score"
   ]
  },
  {
   "cell_type": "code",
   "execution_count": null,
   "id": "1ca77d67",
   "metadata": {},
   "outputs": [],
   "source": [
    "model = RandomForestRegressor(random_state=42)"
   ]
  },
  {
   "cell_type": "code",
   "execution_count": null,
   "id": "28e6490b",
   "metadata": {},
   "outputs": [],
   "source": [
    "# -- Cross-validation (5 katlı)\n",
    "mse_scores = cross_val_score(model, x, y, scoring='neg_mean_squared_error', cv=5)\n",
    "rmse_scores = np.sqrt(-mse_scores)"
   ]
  },
  {
   "cell_type": "code",
   "execution_count": null,
   "id": "81ecffbd",
   "metadata": {
    "lines_to_next_cell": 2
   },
   "outputs": [],
   "source": [
    "print(\"Cross-Validated RMSE Scores (fold bazlı):\", rmse_scores)\n",
    "print(\"Average CV RMSE:\", round(np.mean(rmse_scores), 4))\n",
    "# -- Cross validation sürecinden ve average cv rmse ölçümünden başarılı bir sonuç aldığımızı gözlemliyoruz."
   ]
  },
  {
   "cell_type": "markdown",
   "id": "51de41b8",
   "metadata": {},
   "source": [
    "-- Modeli tüm veri üzerinde uygulayalım"
   ]
  },
  {
   "cell_type": "code",
   "execution_count": null,
   "id": "944c4641",
   "metadata": {},
   "outputs": [],
   "source": [
    "model = RandomForestRegressor(random_state=42)\n",
    "model.fit(x, y)"
   ]
  },
  {
   "cell_type": "code",
   "execution_count": null,
   "id": "5b0f8c03",
   "metadata": {},
   "outputs": [],
   "source": [
    "# -- Hangi feature'ların bu doğru tahminleme yapmamızı sağladığını çıkartabilmek için feature importance çıkartalım\n",
    "importances = model.feature_importances_"
   ]
  },
  {
   "cell_type": "code",
   "execution_count": null,
   "id": "68a312fe",
   "metadata": {
    "lines_to_next_cell": 2
   },
   "outputs": [],
   "source": [
    "# Özellik isimleri ile birleştir\n",
    "feature_importance_df = pd.DataFrame({\n",
    "    'Feature': x.columns,\n",
    "    'Importance': importances\n",
    "}).sort_values(by='Importance', ascending=False)"
   ]
  },
  {
   "cell_type": "code",
   "execution_count": null,
   "id": "b0522562",
   "metadata": {},
   "outputs": [],
   "source": [
    "# -- Görselleştirelim\n",
    "plt.figure(figsize=(12,6))\n",
    "plt.barh(feature_importance_df['Feature'], feature_importance_df['Importance'])\n",
    "plt.xlabel('Feature Importance Score')\n",
    "plt.title('Random Forest Feature Importances')\n",
    "plt.gca().invert_yaxis()\n",
    "plt.tight_layout()\n",
    "plt.savefig(\"C:/Users/Lenovo/Downloads/feature_importance_rf.png\")\n",
    "plt.close()"
   ]
  },
  {
   "cell_type": "code",
   "execution_count": null,
   "id": "8ce9aec9",
   "metadata": {},
   "outputs": [],
   "source": []
  },
  {
   "cell_type": "code",
   "execution_count": null,
   "id": "13c81d44",
   "metadata": {},
   "outputs": [],
   "source": [
    "# -- Daha da doğru bir tahminleme yapabilir miyiz görebilmek için Hyperparameter Tuning yapalım\n",
    "from sklearn.model_selection import RandomizedSearchCV\n",
    "from scipy.stats import randint"
   ]
  },
  {
   "cell_type": "code",
   "execution_count": null,
   "id": "8016a417",
   "metadata": {},
   "outputs": [],
   "source": [
    "param_grid = {\n",
    "    'n_estimators': [100, 200, 300],\n",
    "    'max_depth': [5, 10, 15, None],\n",
    "    'min_samples_split': [2, 5, 10],\n",
    "    'min_samples_leaf': [1, 2, 4],\n",
    "    'max_features': ['auto', 'sqrt']\n",
    "}"
   ]
  },
  {
   "cell_type": "code",
   "execution_count": null,
   "id": "48d1ac51",
   "metadata": {},
   "outputs": [],
   "source": [
    "rf = RandomForestRegressor(random_state=42)"
   ]
  },
  {
   "cell_type": "code",
   "execution_count": null,
   "id": "e9d8ea31",
   "metadata": {},
   "outputs": [],
   "source": [
    "search = RandomizedSearchCV(\n",
    "    estimator=rf,\n",
    "    param_distributions=param_grid,\n",
    "    n_iter=20,\n",
    "    cv=5,\n",
    "    scoring='neg_mean_squared_error',\n",
    "    random_state=42,\n",
    "    n_jobs=-1\n",
    ")"
   ]
  },
  {
   "cell_type": "code",
   "execution_count": null,
   "id": "ce0f53df",
   "metadata": {},
   "outputs": [],
   "source": [
    "search.fit(x_train, y_train)"
   ]
  },
  {
   "cell_type": "code",
   "execution_count": null,
   "id": "b5b427c5",
   "metadata": {
    "lines_to_next_cell": 2
   },
   "outputs": [],
   "source": [
    "print(\"En iyi parametreler:\", search.best_params_)\n",
    "best_model = search.best_estimator_"
   ]
  },
  {
   "cell_type": "code",
   "execution_count": null,
   "id": "ae8a5d5d",
   "metadata": {},
   "outputs": [],
   "source": [
    "# -- Tekrardan mse,rmse,r square değerlerimizi hesaplayalım.\n",
    "from sklearn.metrics import mean_squared_error, r2_score\n",
    "y_pred = best_model.predict(x_test)"
   ]
  },
  {
   "cell_type": "code",
   "execution_count": null,
   "id": "783766af",
   "metadata": {},
   "outputs": [],
   "source": [
    "mse = mean_squared_error(y_test, y_pred)\n",
    "r2 = r2_score(y_test, y_pred)\n",
    "rmse = np.sqrt(mse)"
   ]
  },
  {
   "cell_type": "code",
   "execution_count": null,
   "id": "f5873a9e",
   "metadata": {
    "lines_to_next_cell": 2
   },
   "outputs": [],
   "source": [
    "print(f\"Mean Squared Error: {mse:.2f}\")\n",
    "print(f\"Root Mean Squared Error: {rmse:.2f}\")\n",
    "print(f\"R² Score: {r2:.2f}\")"
   ]
  },
  {
   "cell_type": "markdown",
   "id": "5a3ae8e0",
   "metadata": {},
   "source": [
    "- Hyperparameter tuning modelimizin overfitting ihtimalini azaltabilir ve genelleştirebilir dolayısıyla\n",
    "Dolayısıyla R-Squared değeri düşerken, RMSE değeri artabilir. (istemediğimiz bir durum)\n",
    "Ancak bizim işimizin en iyi genelleyen modeli seçmek olduğunu unutmamalıyız."
   ]
  },
  {
   "cell_type": "code",
   "execution_count": null,
   "id": "e70732ee",
   "metadata": {
    "lines_to_next_cell": 2
   },
   "outputs": [],
   "source": []
  },
  {
   "cell_type": "markdown",
   "id": "eb7d857c",
   "metadata": {},
   "source": [
    "-- Yorum"
   ]
  },
  {
   "cell_type": "markdown",
   "id": "d0625802",
   "metadata": {},
   "source": [
    "- Modelin hem test setinde hem de cross-validation sürecinde düşük RMSE (~0.17)\n",
    "  ve yüksek R² (~0.98) skorları üretmesi, genel olarak oldukça başarılı ve\n",
    "  genellenebilir bir regresyon modeli ortaya koyduğumuzu göstermektedir."
   ]
  },
  {
   "cell_type": "markdown",
   "id": "acf4cab6",
   "metadata": {
    "lines_to_next_cell": 2
   },
   "source": [
    "Random Forest tarafından hesaplanan feature importance skorlarına göre;\n",
    "- Sigara kullanımı (Smoking), genetik yatkınlık (Genetic_Risk) ve tedavi masrafları\n",
    "  (Treatment_Cost_USD), modelin hedef değişkeni tahminlemesinde en belirleyici\n",
    "  değişkenler olmuştur.\n",
    "- Alkol kullanımı (Alcohol_Use), hava kirliliği (Air_Pollution) ve obezite seviyesi\n",
    "  (Obesity_Level) gibi çevresel ve yaşam tarzı faktörleri de önemli katkılar\n",
    "  sağlamıştır.\n",
    "- Bu sonuçlar; sağlık politikalarının planlanması, risk yönetimi ve önleyici\n",
    "  müdahaleler açısından stratejik içgörüler sunmaktadır."
   ]
  }
 ],
 "metadata": {
  "jupytext": {
   "cell_metadata_filter": "-all",
   "main_language": "python",
   "notebook_metadata_filter": "-all"
  }
 },
 "nbformat": 4,
 "nbformat_minor": 5
}
